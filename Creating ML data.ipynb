{
 "cells": [
  {
   "cell_type": "code",
   "execution_count": null,
   "metadata": {},
   "outputs": [],
   "source": [
    "import numpy as np\n",
    "import pandas as pd\n",
    "import matplotlib.pyplot as plt\n",
    "import matplotlib\n",
    "import mglearn\n",
    "%matplotlib inline\n",
    "\n",
    "import os\n",
    "path = 'E:\\Python Consumer Credit'\n",
    "os.chdir(path)\n",
    "\n",
    "df = pd.read_csv('df.csv', delimiter=',', error_bad_lines=False, low_memory=False)\n",
    "\n",
    "df=df.drop(['Bank','status'], axis=1)\n",
    "df=df[df['IntRate']>=0.0]\n",
    "df=df[df['Age']<100]\n",
    "\n",
    "df_s=df[df['expl']==\"'займы, по которым просроченная задолженность отсутствует'\"]\n",
    "df_n=df[df['expl']==\"'более 90 дней'\"]\n",
    "\n",
    "df_ml=pd.concat([df_n,df_s])\n",
    "df_ml=df_ml.sample(frac=1)\n",
    "df_ml=df_ml.reset_index(drop=True)\n",
    "\n",
    "df_ml=df_ml.replace(to_replace=\"'займы, по которым просроченная задолженность отсутствует'\", value='No', regex=True)\n",
    "df_ml=df_ml.replace(to_replace=\"'более 90 дней'\", value='Yes', regex=True)\n",
    "\n",
    "df_ml=df_ml[['Region','currency','How','goal','Gender','Resid','IntRate','Summ','Age','expl']]\n",
    "df_ml.to_csv('ml_data.csv',index=False)"
   ]
  }
 ],
 "metadata": {
  "kernelspec": {
   "display_name": "Python 3",
   "language": "python",
   "name": "python3"
  },
  "language_info": {
   "codemirror_mode": {
    "name": "ipython",
    "version": 3
   },
   "file_extension": ".py",
   "mimetype": "text/x-python",
   "name": "python",
   "nbconvert_exporter": "python",
   "pygments_lexer": "ipython3",
   "version": "3.7.1"
  }
 },
 "nbformat": 4,
 "nbformat_minor": 4
}
