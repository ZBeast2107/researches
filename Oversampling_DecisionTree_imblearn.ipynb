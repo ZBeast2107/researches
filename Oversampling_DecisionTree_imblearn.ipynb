{
 "cells": [
  {
   "cell_type": "code",
   "execution_count": 1,
   "metadata": {},
   "outputs": [],
   "source": [
    "import numpy as np\n",
    "import pandas as pd\n",
    "import matplotlib.pyplot as plt\n",
    "import matplotlib\n",
    "import mglearn\n",
    "%matplotlib inline"
   ]
  },
  {
   "cell_type": "code",
   "execution_count": 2,
   "metadata": {},
   "outputs": [],
   "source": [
    "import os\n",
    "path = 'E:\\Python Consumer Credit'\n",
    "os.chdir(path)"
   ]
  },
  {
   "cell_type": "code",
   "execution_count": 3,
   "metadata": {},
   "outputs": [
    {
     "data": {
      "text/html": [
       "<div>\n",
       "<style scoped>\n",
       "    .dataframe tbody tr th:only-of-type {\n",
       "        vertical-align: middle;\n",
       "    }\n",
       "\n",
       "    .dataframe tbody tr th {\n",
       "        vertical-align: top;\n",
       "    }\n",
       "\n",
       "    .dataframe thead th {\n",
       "        text-align: right;\n",
       "    }\n",
       "</style>\n",
       "<table border=\"1\" class=\"dataframe\">\n",
       "  <thead>\n",
       "    <tr style=\"text-align: right;\">\n",
       "      <th></th>\n",
       "      <th>0</th>\n",
       "      <th>1</th>\n",
       "      <th>2</th>\n",
       "      <th>3</th>\n",
       "      <th>4</th>\n",
       "      <th>5</th>\n",
       "      <th>6</th>\n",
       "      <th>7</th>\n",
       "      <th>8</th>\n",
       "      <th>9</th>\n",
       "      <th>10</th>\n",
       "      <th>11</th>\n",
       "      <th>12</th>\n",
       "    </tr>\n",
       "  </thead>\n",
       "  <tbody>\n",
       "    <tr>\n",
       "      <th>0</th>\n",
       "      <td>0.548129</td>\n",
       "      <td>-0.474781</td>\n",
       "      <td>-0.261172</td>\n",
       "      <td>0.582676</td>\n",
       "      <td>-0.998952</td>\n",
       "      <td>0.161931</td>\n",
       "      <td>0.005315</td>\n",
       "      <td>0.015124</td>\n",
       "      <td>0.010220</td>\n",
       "      <td>0.004017</td>\n",
       "      <td>0.009899</td>\n",
       "      <td>-0.002410</td>\n",
       "      <td>0.0</td>\n",
       "    </tr>\n",
       "    <tr>\n",
       "      <th>1</th>\n",
       "      <td>-0.082416</td>\n",
       "      <td>-0.432479</td>\n",
       "      <td>-0.095805</td>\n",
       "      <td>0.612262</td>\n",
       "      <td>-0.799163</td>\n",
       "      <td>-0.783377</td>\n",
       "      <td>-0.087216</td>\n",
       "      <td>-0.092665</td>\n",
       "      <td>-0.090022</td>\n",
       "      <td>-0.147795</td>\n",
       "      <td>-0.246413</td>\n",
       "      <td>0.000853</td>\n",
       "      <td>0.0</td>\n",
       "    </tr>\n",
       "  </tbody>\n",
       "</table>\n",
       "</div>"
      ],
      "text/plain": [
       "         0         1         2         3         4         5         6   \\\n",
       "0  0.548129 -0.474781 -0.261172  0.582676 -0.998952  0.161931  0.005315   \n",
       "1 -0.082416 -0.432479 -0.095805  0.612262 -0.799163 -0.783377 -0.087216   \n",
       "\n",
       "         7         8         9         10        11   12  \n",
       "0  0.015124  0.010220  0.004017  0.009899 -0.002410  0.0  \n",
       "1 -0.092665 -0.090022 -0.147795 -0.246413  0.000853  0.0  "
      ]
     },
     "execution_count": 3,
     "metadata": {},
     "output_type": "execute_result"
    }
   ],
   "source": [
    "df_tr=pd.read_csv('df__over_tr.csv',header=None)\n",
    "df_tr[:2]"
   ]
  },
  {
   "cell_type": "code",
   "execution_count": 4,
   "metadata": {},
   "outputs": [
    {
     "data": {
      "text/html": [
       "<div>\n",
       "<style scoped>\n",
       "    .dataframe tbody tr th:only-of-type {\n",
       "        vertical-align: middle;\n",
       "    }\n",
       "\n",
       "    .dataframe tbody tr th {\n",
       "        vertical-align: top;\n",
       "    }\n",
       "\n",
       "    .dataframe thead th {\n",
       "        text-align: right;\n",
       "    }\n",
       "</style>\n",
       "<table border=\"1\" class=\"dataframe\">\n",
       "  <thead>\n",
       "    <tr style=\"text-align: right;\">\n",
       "      <th></th>\n",
       "      <th>0</th>\n",
       "      <th>1</th>\n",
       "      <th>2</th>\n",
       "      <th>3</th>\n",
       "      <th>4</th>\n",
       "      <th>5</th>\n",
       "      <th>6</th>\n",
       "      <th>7</th>\n",
       "      <th>8</th>\n",
       "      <th>9</th>\n",
       "      <th>10</th>\n",
       "      <th>11</th>\n",
       "      <th>12</th>\n",
       "    </tr>\n",
       "  </thead>\n",
       "  <tbody>\n",
       "    <tr>\n",
       "      <th>0</th>\n",
       "      <td>-0.866658</td>\n",
       "      <td>-0.071452</td>\n",
       "      <td>-0.750317</td>\n",
       "      <td>1.019449</td>\n",
       "      <td>0.287573</td>\n",
       "      <td>-0.222000</td>\n",
       "      <td>-0.079361</td>\n",
       "      <td>-0.129938</td>\n",
       "      <td>-0.102214</td>\n",
       "      <td>-0.132150</td>\n",
       "      <td>-0.226905</td>\n",
       "      <td>-0.064253</td>\n",
       "      <td>0.0</td>\n",
       "    </tr>\n",
       "    <tr>\n",
       "      <th>1</th>\n",
       "      <td>-0.090683</td>\n",
       "      <td>-0.148418</td>\n",
       "      <td>-1.216780</td>\n",
       "      <td>-0.575059</td>\n",
       "      <td>-0.583747</td>\n",
       "      <td>-0.759693</td>\n",
       "      <td>-0.084742</td>\n",
       "      <td>-0.074892</td>\n",
       "      <td>-0.069629</td>\n",
       "      <td>-0.105506</td>\n",
       "      <td>-0.138969</td>\n",
       "      <td>-0.006599</td>\n",
       "      <td>1.0</td>\n",
       "    </tr>\n",
       "  </tbody>\n",
       "</table>\n",
       "</div>"
      ],
      "text/plain": [
       "         0         1         2         3         4         5         6   \\\n",
       "0 -0.866658 -0.071452 -0.750317  1.019449  0.287573 -0.222000 -0.079361   \n",
       "1 -0.090683 -0.148418 -1.216780 -0.575059 -0.583747 -0.759693 -0.084742   \n",
       "\n",
       "         7         8         9         10        11   12  \n",
       "0 -0.129938 -0.102214 -0.132150 -0.226905 -0.064253  0.0  \n",
       "1 -0.074892 -0.069629 -0.105506 -0.138969 -0.006599  1.0  "
      ]
     },
     "execution_count": 4,
     "metadata": {},
     "output_type": "execute_result"
    }
   ],
   "source": [
    "df_ts=pd.read_csv('df__over_ts.csv',header=None)\n",
    "df_ts[:2]"
   ]
  },
  {
   "cell_type": "code",
   "execution_count": 5,
   "metadata": {},
   "outputs": [
    {
     "name": "stdout",
     "output_type": "stream",
     "text": [
      "(10172801, 12)\n",
      "(2543201, 12)\n",
      "(10172801,)\n",
      "(2543201,)\n"
     ]
    }
   ],
   "source": [
    "X_train = df_tr.iloc[:,:-1].values\n",
    "y_train = df_tr.iloc[:,-1].values\n",
    "X_test = df_ts.iloc[:,:-1].values\n",
    "y_test = df_ts.iloc[:,-1].values\n",
    "print(X_train.shape)\n",
    "print(X_test.shape)\n",
    "print(y_train.shape)\n",
    "print(y_test.shape)"
   ]
  },
  {
   "cell_type": "markdown",
   "metadata": {},
   "source": [
    "## Classification algorithms"
   ]
  },
  {
   "cell_type": "markdown",
   "metadata": {},
   "source": [
    "#### Decision Tree Classifier"
   ]
  },
  {
   "cell_type": "code",
   "execution_count": 6,
   "metadata": {},
   "outputs": [],
   "source": [
    "from sklearn.tree import DecisionTreeClassifier\n",
    "dtc=DecisionTreeClassifier(max_depth=20, criterion='entropy').fit(X_train,y_train)\n",
    "y_tr_dt_pred = dtc.predict(X_train)\n",
    "y_ts_dt_pred = dtc.predict(X_test)"
   ]
  },
  {
   "cell_type": "code",
   "execution_count": 7,
   "metadata": {},
   "outputs": [
    {
     "name": "stdout",
     "output_type": "stream",
     "text": [
      "[[3852636 1234229]\n",
      " [1125045 3960891]]\n"
     ]
    },
    {
     "data": {
      "text/plain": [
       "0.7680801973812326"
      ]
     },
     "execution_count": 7,
     "metadata": {},
     "output_type": "execute_result"
    }
   ],
   "source": [
    "from sklearn.metrics import confusion_matrix, accuracy_score\n",
    "dt_cm_tr = confusion_matrix(y_train,y_tr_dt_pred)\n",
    "print(dt_cm_tr)\n",
    "accuracy_score(y_train, y_tr_dt_pred)"
   ]
  },
  {
   "cell_type": "code",
   "execution_count": 8,
   "metadata": {},
   "outputs": [
    {
     "name": "stdout",
     "output_type": "stream",
     "text": [
      "[[945133 326003]\n",
      " [302242 969823]]\n"
     ]
    },
    {
     "data": {
      "text/plain": [
       "0.7529707640096084"
      ]
     },
     "execution_count": 8,
     "metadata": {},
     "output_type": "execute_result"
    }
   ],
   "source": [
    "dt_cm_ts = confusion_matrix(y_test,y_ts_dt_pred)\n",
    "print(dt_cm_ts)\n",
    "accuracy_score(y_test, y_ts_dt_pred)"
   ]
  },
  {
   "cell_type": "markdown",
   "metadata": {},
   "source": [
    "## Applying k-fold Cross Validation"
   ]
  },
  {
   "cell_type": "code",
   "execution_count": 9,
   "metadata": {},
   "outputs": [
    {
     "name": "stdout",
     "output_type": "stream",
     "text": [
      "Accuracy: 72.17 %\n",
      "Standard deviation: 0.06 %\n"
     ]
    }
   ],
   "source": [
    "from sklearn.model_selection import KFold, cross_val_score\n",
    "accuracies = cross_val_score(estimator = dtc, X = X_train, y = y_train, cv = 5)\n",
    "print('Accuracy: {:.2f} %'.format(accuracies.mean()*100))\n",
    "print('Standard deviation: {:.2f} %'.format(accuracies.std()*100))"
   ]
  },
  {
   "cell_type": "code",
   "execution_count": 10,
   "metadata": {},
   "outputs": [
    {
     "data": {
      "text/plain": [
       "array([0.72287093, 0.72162482, 0.72136039, 0.72136088, 0.72152603])"
      ]
     },
     "execution_count": 10,
     "metadata": {},
     "output_type": "execute_result"
    }
   ],
   "source": [
    "accuracies"
   ]
  },
  {
   "cell_type": "markdown",
   "metadata": {},
   "source": [
    "## Grid Search"
   ]
  },
  {
   "cell_type": "code",
   "execution_count": 11,
   "metadata": {},
   "outputs": [
    {
     "name": "stdout",
     "output_type": "stream",
     "text": [
      "Best accuracy: 75.14 %\n",
      "Best parameters:  {'criterion': 'entropy', 'max_depth': 20}\n"
     ]
    }
   ],
   "source": [
    "from sklearn.model_selection import GridSearchCV\n",
    "parameters = [{'criterion':['gini', 'entropy'],'max_depth': list(range(1,21))}]\n",
    "grid_search = GridSearchCV(estimator = dtc, \n",
    "                           param_grid = parameters,\n",
    "                           scoring = 'accuracy',\n",
    "                           cv = 5,\n",
    "                           n_jobs = -1)\n",
    "grid_search.fit(X_train, y_train)\n",
    "best_accuracy = grid_search.best_score_\n",
    "best_parameters = grid_search.best_params_\n",
    "print('Best accuracy: {:.2f} %'.format(best_accuracy*100))\n",
    "print('Best parameters: ',best_parameters)"
   ]
  },
  {
   "cell_type": "markdown",
   "metadata": {},
   "source": [
    "## Metrics"
   ]
  },
  {
   "cell_type": "code",
   "execution_count": 9,
   "metadata": {},
   "outputs": [
    {
     "name": "stdout",
     "output_type": "stream",
     "text": [
      "0.7529673181821934\n",
      "0.6068721731490775\n",
      "0.7553459239508219\n",
      "0.748420698457972\n",
      "0.7624005062634378\n"
     ]
    }
   ],
   "source": [
    "from sklearn.metrics import roc_auc_score, jaccard_score, f1_score, precision_score, recall_score\n",
    "print(roc_auc_score(y_test,y_ts_dt_pred))\n",
    "print(jaccard_score(y_test,y_ts_dt_pred))\n",
    "print(f1_score(y_test,y_ts_dt_pred))\n",
    "print(precision_score(y_test,y_ts_dt_pred))\n",
    "print(recall_score(y_test,y_ts_dt_pred))"
   ]
  },
  {
   "cell_type": "code",
   "execution_count": null,
   "metadata": {},
   "outputs": [],
   "source": []
  }
 ],
 "metadata": {
  "kernelspec": {
   "display_name": "Python 3",
   "language": "python",
   "name": "python3"
  },
  "language_info": {
   "codemirror_mode": {
    "name": "ipython",
    "version": 3
   },
   "file_extension": ".py",
   "mimetype": "text/x-python",
   "name": "python",
   "nbconvert_exporter": "python",
   "pygments_lexer": "ipython3",
   "version": "3.7.1"
  }
 },
 "nbformat": 4,
 "nbformat_minor": 4
}
