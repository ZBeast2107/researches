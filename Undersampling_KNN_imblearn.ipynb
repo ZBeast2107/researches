{
 "cells": [
  {
   "cell_type": "code",
   "execution_count": 1,
   "metadata": {},
   "outputs": [],
   "source": [
    "import numpy as np\n",
    "import pandas as pd\n",
    "import matplotlib.pyplot as plt\n",
    "import matplotlib\n",
    "import mglearn\n",
    "%matplotlib inline"
   ]
  },
  {
   "cell_type": "code",
   "execution_count": 2,
   "metadata": {},
   "outputs": [],
   "source": [
    "import os\n",
    "path = 'E:\\Python Consumer Credit'\n",
    "os.chdir(path)"
   ]
  },
  {
   "cell_type": "code",
   "execution_count": 3,
   "metadata": {},
   "outputs": [],
   "source": [
    "df_tr=pd.read_csv('df__under_tr.csv',header=None)\n",
    "df_ts=pd.read_csv('df__under_ts.csv',header=None)"
   ]
  },
  {
   "cell_type": "code",
   "execution_count": 4,
   "metadata": {},
   "outputs": [
    {
     "name": "stdout",
     "output_type": "stream",
     "text": [
      "(557088, 14)\n",
      "(139272, 14)\n",
      "(557088,)\n",
      "(139272,)\n"
     ]
    }
   ],
   "source": [
    "X_train = df_tr.iloc[:,:-1].values\n",
    "y_train = df_tr.iloc[:,-1].values\n",
    "X_test = df_ts.iloc[:,:-1].values\n",
    "y_test = df_ts.iloc[:,-1].values\n",
    "print(X_train.shape)\n",
    "print(X_test.shape)\n",
    "print(y_train.shape)\n",
    "print(y_test.shape)"
   ]
  },
  {
   "cell_type": "markdown",
   "metadata": {},
   "source": [
    "#### KNN Classifier"
   ]
  },
  {
   "cell_type": "code",
   "execution_count": 5,
   "metadata": {},
   "outputs": [],
   "source": [
    "from sklearn.neighbors import KNeighborsClassifier\n",
    "knn=KNeighborsClassifier(n_neighbors=50).fit(X_train,y_train)\n",
    "y_tr_knn_pred = knn.predict(X_train)\n",
    "y_ts_knn_pred = knn.predict(X_test)"
   ]
  },
  {
   "cell_type": "code",
   "execution_count": 10,
   "metadata": {},
   "outputs": [
    {
     "name": "stdout",
     "output_type": "stream",
     "text": [
      "[[199120  79702]\n",
      " [ 95202 183064]]\n"
     ]
    },
    {
     "data": {
      "text/plain": [
       "0.6860388304899765"
      ]
     },
     "execution_count": 10,
     "metadata": {},
     "output_type": "execute_result"
    }
   ],
   "source": [
    "from sklearn.metrics import confusion_matrix, accuracy_score\n",
    "knn_cm_tr = confusion_matrix(y_train,y_tr_knn_pred)\n",
    "print(knn_cm_tr)\n",
    "accuracy_score(y_train, y_tr_knn_pred)"
   ]
  },
  {
   "cell_type": "code",
   "execution_count": 12,
   "metadata": {},
   "outputs": [
    {
     "name": "stdout",
     "output_type": "stream",
     "text": [
      "[[48726 20632]\n",
      " [25194 44720]]\n"
     ]
    },
    {
     "data": {
      "text/plain": [
       "0.6709604227698317"
      ]
     },
     "execution_count": 12,
     "metadata": {},
     "output_type": "execute_result"
    }
   ],
   "source": [
    "knn_cm_ts = confusion_matrix(y_test,y_ts_knn_pred)\n",
    "print(knn_cm_ts)\n",
    "accuracy_score(y_test, y_ts_knn_pred)"
   ]
  },
  {
   "cell_type": "markdown",
   "metadata": {},
   "source": [
    "## Applying k-fold Cross Validation"
   ]
  },
  {
   "cell_type": "code",
   "execution_count": 9,
   "metadata": {},
   "outputs": [
    {
     "name": "stdout",
     "output_type": "stream",
     "text": [
      "Accuracy: 64.72 %\n",
      "Standard deviation: 0.11 %\n"
     ]
    }
   ],
   "source": [
    "from sklearn.model_selection import KFold, cross_val_score\n",
    "accuracies = cross_val_score(estimator = knn, X = X_train, y = y_train, cv = 5)\n",
    "print('Accuracy: {:.2f} %'.format(accuracies.mean()*100))\n",
    "print('Standard deviation: {:.2f} %'.format(accuracies.std()*100))"
   ]
  },
  {
   "cell_type": "code",
   "execution_count": 10,
   "metadata": {},
   "outputs": [
    {
     "data": {
      "text/plain": [
       "array([0.64652929, 0.64671777, 0.64917697, 0.64722619, 0.6462389 ])"
      ]
     },
     "execution_count": 10,
     "metadata": {},
     "output_type": "execute_result"
    }
   ],
   "source": [
    "accuracies"
   ]
  },
  {
   "cell_type": "markdown",
   "metadata": {},
   "source": [
    "## Grid Search"
   ]
  },
  {
   "cell_type": "code",
   "execution_count": 11,
   "metadata": {},
   "outputs": [
    {
     "name": "stdout",
     "output_type": "stream",
     "text": [
      "Best accuracy: 66.96 %\n",
      "Best parameters:  {'n_neighbors': 50}\n"
     ]
    }
   ],
   "source": [
    "from sklearn.model_selection import GridSearchCV\n",
    "parameters = [{'n_neighbors': list(range(1, 81))}]\n",
    "grid_search = GridSearchCV(estimator = knn, \n",
    "                           param_grid = parameters,\n",
    "                           scoring = 'accuracy',\n",
    "                           cv = 5,\n",
    "                           n_jobs = -1)\n",
    "grid_search.fit(X_train, y_train)\n",
    "best_accuracy = grid_search.best_score_\n",
    "best_parameters = grid_search.best_params_\n",
    "print('Best accuracy: {:.2f} %'.format(best_accuracy*100))\n",
    "print('Best parameters: ',best_parameters)"
   ]
  },
  {
   "cell_type": "markdown",
   "metadata": {},
   "source": [
    "## Metrics"
   ]
  },
  {
   "cell_type": "code",
   "execution_count": 9,
   "metadata": {},
   "outputs": [
    {
     "name": "stdout",
     "output_type": "stream",
     "text": [
      "[[48726 20632]\n",
      " [25194 44720]]\n",
      "0.671085948971876\n",
      "0.49389260707264815\n",
      "0.6612156787367114\n",
      "0.6842942832660056\n",
      "0.6396429899590926\n"
     ]
    }
   ],
   "source": [
    "from sklearn.metrics import roc_auc_score, jaccard_score, f1_score, precision_score, recall_score\n",
    "print(roc_auc_score(y_test,y_ts_knn_pred))\n",
    "print(jaccard_score(y_test,y_ts_knn_pred))\n",
    "print(f1_score(y_test,y_ts_knn_pred))\n",
    "print(precision_score(y_test,y_ts_knn_pred))\n",
    "print(recall_score(y_test,y_ts_knn_pred))"
   ]
  },
  {
   "cell_type": "code",
   "execution_count": null,
   "metadata": {},
   "outputs": [],
   "source": []
  }
 ],
 "metadata": {
  "kernelspec": {
   "display_name": "Python 3",
   "language": "python",
   "name": "python3"
  },
  "language_info": {
   "codemirror_mode": {
    "name": "ipython",
    "version": 3
   },
   "file_extension": ".py",
   "mimetype": "text/x-python",
   "name": "python",
   "nbconvert_exporter": "python",
   "pygments_lexer": "ipython3",
   "version": "3.8.3"
  }
 },
 "nbformat": 4,
 "nbformat_minor": 4
}
