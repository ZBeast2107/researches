{
 "cells": [
  {
   "cell_type": "code",
   "execution_count": 1,
   "metadata": {},
   "outputs": [],
   "source": [
    "import numpy as np\n",
    "import pandas as pd\n",
    "import matplotlib.pyplot as plt\n",
    "import matplotlib\n",
    "import mglearn\n",
    "%matplotlib inline"
   ]
  },
  {
   "cell_type": "code",
   "execution_count": 2,
   "metadata": {},
   "outputs": [],
   "source": [
    "import os\n",
    "path = 'E:\\Python Consumer Credit'\n",
    "os.chdir(path)"
   ]
  },
  {
   "cell_type": "code",
   "execution_count": 3,
   "metadata": {},
   "outputs": [
    {
     "data": {
      "text/html": [
       "<div>\n",
       "<style scoped>\n",
       "    .dataframe tbody tr th:only-of-type {\n",
       "        vertical-align: middle;\n",
       "    }\n",
       "\n",
       "    .dataframe tbody tr th {\n",
       "        vertical-align: top;\n",
       "    }\n",
       "\n",
       "    .dataframe thead th {\n",
       "        text-align: right;\n",
       "    }\n",
       "</style>\n",
       "<table border=\"1\" class=\"dataframe\">\n",
       "  <thead>\n",
       "    <tr style=\"text-align: right;\">\n",
       "      <th></th>\n",
       "      <th>0</th>\n",
       "      <th>1</th>\n",
       "      <th>2</th>\n",
       "      <th>3</th>\n",
       "      <th>4</th>\n",
       "      <th>5</th>\n",
       "      <th>6</th>\n",
       "      <th>7</th>\n",
       "      <th>8</th>\n",
       "      <th>9</th>\n",
       "      <th>10</th>\n",
       "      <th>11</th>\n",
       "      <th>12</th>\n",
       "      <th>13</th>\n",
       "      <th>14</th>\n",
       "    </tr>\n",
       "  </thead>\n",
       "  <tbody>\n",
       "    <tr>\n",
       "      <th>0</th>\n",
       "      <td>-0.593639</td>\n",
       "      <td>-0.149142</td>\n",
       "      <td>-0.928708</td>\n",
       "      <td>-0.895429</td>\n",
       "      <td>-0.441514</td>\n",
       "      <td>-0.671887</td>\n",
       "      <td>-0.242520</td>\n",
       "      <td>-0.155226</td>\n",
       "      <td>-0.443152</td>\n",
       "      <td>0.725697</td>\n",
       "      <td>0.230502</td>\n",
       "      <td>0.137229</td>\n",
       "      <td>0.024560</td>\n",
       "      <td>0.019710</td>\n",
       "      <td>1.0</td>\n",
       "    </tr>\n",
       "    <tr>\n",
       "      <th>1</th>\n",
       "      <td>-0.047948</td>\n",
       "      <td>-0.151861</td>\n",
       "      <td>0.356721</td>\n",
       "      <td>0.917976</td>\n",
       "      <td>0.390207</td>\n",
       "      <td>-0.160338</td>\n",
       "      <td>-0.208632</td>\n",
       "      <td>-0.183232</td>\n",
       "      <td>-0.473509</td>\n",
       "      <td>0.713522</td>\n",
       "      <td>0.237160</td>\n",
       "      <td>0.124151</td>\n",
       "      <td>0.029439</td>\n",
       "      <td>0.008942</td>\n",
       "      <td>1.0</td>\n",
       "    </tr>\n",
       "  </tbody>\n",
       "</table>\n",
       "</div>"
      ],
      "text/plain": [
       "         0         1         2         3         4         5         6   \\\n",
       "0 -0.593639 -0.149142 -0.928708 -0.895429 -0.441514 -0.671887 -0.242520   \n",
       "1 -0.047948 -0.151861  0.356721  0.917976  0.390207 -0.160338 -0.208632   \n",
       "\n",
       "         7         8         9         10        11        12        13   14  \n",
       "0 -0.155226 -0.443152  0.725697  0.230502  0.137229  0.024560  0.019710  1.0  \n",
       "1 -0.183232 -0.473509  0.713522  0.237160  0.124151  0.029439  0.008942  1.0  "
      ]
     },
     "execution_count": 3,
     "metadata": {},
     "output_type": "execute_result"
    }
   ],
   "source": [
    "df_tr=pd.read_csv('df__under_tr.csv',header=None)\n",
    "df_tr[:2]"
   ]
  },
  {
   "cell_type": "code",
   "execution_count": 4,
   "metadata": {},
   "outputs": [
    {
     "data": {
      "text/html": [
       "<div>\n",
       "<style scoped>\n",
       "    .dataframe tbody tr th:only-of-type {\n",
       "        vertical-align: middle;\n",
       "    }\n",
       "\n",
       "    .dataframe tbody tr th {\n",
       "        vertical-align: top;\n",
       "    }\n",
       "\n",
       "    .dataframe thead th {\n",
       "        text-align: right;\n",
       "    }\n",
       "</style>\n",
       "<table border=\"1\" class=\"dataframe\">\n",
       "  <thead>\n",
       "    <tr style=\"text-align: right;\">\n",
       "      <th></th>\n",
       "      <th>0</th>\n",
       "      <th>1</th>\n",
       "      <th>2</th>\n",
       "      <th>3</th>\n",
       "      <th>4</th>\n",
       "      <th>5</th>\n",
       "      <th>6</th>\n",
       "      <th>7</th>\n",
       "      <th>8</th>\n",
       "      <th>9</th>\n",
       "      <th>10</th>\n",
       "      <th>11</th>\n",
       "      <th>12</th>\n",
       "      <th>13</th>\n",
       "      <th>14</th>\n",
       "    </tr>\n",
       "  </thead>\n",
       "  <tbody>\n",
       "    <tr>\n",
       "      <th>0</th>\n",
       "      <td>2.204124</td>\n",
       "      <td>-0.596998</td>\n",
       "      <td>-0.573534</td>\n",
       "      <td>-0.882693</td>\n",
       "      <td>0.153868</td>\n",
       "      <td>0.328965</td>\n",
       "      <td>-0.001686</td>\n",
       "      <td>-0.063468</td>\n",
       "      <td>0.065615</td>\n",
       "      <td>0.021269</td>\n",
       "      <td>0.017486</td>\n",
       "      <td>0.006202</td>\n",
       "      <td>0.005417</td>\n",
       "      <td>0.000084</td>\n",
       "      <td>1.0</td>\n",
       "    </tr>\n",
       "    <tr>\n",
       "      <th>1</th>\n",
       "      <td>-0.748031</td>\n",
       "      <td>-0.707041</td>\n",
       "      <td>-0.750154</td>\n",
       "      <td>0.935175</td>\n",
       "      <td>0.075380</td>\n",
       "      <td>-0.314942</td>\n",
       "      <td>0.785871</td>\n",
       "      <td>-0.285480</td>\n",
       "      <td>0.266601</td>\n",
       "      <td>0.092347</td>\n",
       "      <td>0.084489</td>\n",
       "      <td>0.053386</td>\n",
       "      <td>0.018267</td>\n",
       "      <td>0.000362</td>\n",
       "      <td>1.0</td>\n",
       "    </tr>\n",
       "  </tbody>\n",
       "</table>\n",
       "</div>"
      ],
      "text/plain": [
       "         0         1         2         3         4         5         6   \\\n",
       "0  2.204124 -0.596998 -0.573534 -0.882693  0.153868  0.328965 -0.001686   \n",
       "1 -0.748031 -0.707041 -0.750154  0.935175  0.075380 -0.314942  0.785871   \n",
       "\n",
       "         7         8         9         10        11        12        13   14  \n",
       "0 -0.063468  0.065615  0.021269  0.017486  0.006202  0.005417  0.000084  1.0  \n",
       "1 -0.285480  0.266601  0.092347  0.084489  0.053386  0.018267  0.000362  1.0  "
      ]
     },
     "execution_count": 4,
     "metadata": {},
     "output_type": "execute_result"
    }
   ],
   "source": [
    "df_ts=pd.read_csv('df__under_ts.csv',header=None)\n",
    "df_ts[:2]"
   ]
  },
  {
   "cell_type": "code",
   "execution_count": 5,
   "metadata": {},
   "outputs": [
    {
     "name": "stdout",
     "output_type": "stream",
     "text": [
      "(557088, 14)\n",
      "(139272, 14)\n",
      "(557088,)\n",
      "(139272,)\n"
     ]
    }
   ],
   "source": [
    "X_train = df_tr.iloc[:,:-1].values\n",
    "y_train = df_tr.iloc[:,-1].values\n",
    "X_test = df_ts.iloc[:,:-1].values\n",
    "y_test = df_ts.iloc[:,-1].values\n",
    "print(X_train.shape)\n",
    "print(X_test.shape)\n",
    "print(y_train.shape)\n",
    "print(y_test.shape)"
   ]
  },
  {
   "cell_type": "markdown",
   "metadata": {},
   "source": [
    "## Classification algorithms"
   ]
  },
  {
   "cell_type": "markdown",
   "metadata": {},
   "source": [
    "#### Decision Tree Classifier"
   ]
  },
  {
   "cell_type": "code",
   "execution_count": 6,
   "metadata": {},
   "outputs": [],
   "source": [
    "from sklearn.tree import DecisionTreeClassifier\n",
    "dtc=DecisionTreeClassifier(max_depth=14, criterion='entropy').fit(X_train,y_train)\n",
    "y_tr_dt_pred = dtc.predict(X_train)\n",
    "y_ts_dt_pred = dtc.predict(X_test)"
   ]
  },
  {
   "cell_type": "code",
   "execution_count": 7,
   "metadata": {},
   "outputs": [
    {
     "name": "stdout",
     "output_type": "stream",
     "text": [
      "[[196168  82654]\n",
      " [ 94218 184048]]\n"
     ]
    },
    {
     "data": {
      "text/plain": [
       "0.6825061749669711"
      ]
     },
     "execution_count": 7,
     "metadata": {},
     "output_type": "execute_result"
    }
   ],
   "source": [
    "from sklearn.metrics import confusion_matrix, accuracy_score\n",
    "dt_cm_tr = confusion_matrix(y_train,y_tr_dt_pred)\n",
    "print(dt_cm_tr)\n",
    "accuracy_score(y_train, y_tr_dt_pred)"
   ]
  },
  {
   "cell_type": "code",
   "execution_count": 8,
   "metadata": {},
   "outputs": [
    {
     "name": "stdout",
     "output_type": "stream",
     "text": [
      "[[47334 22024]\n",
      " [25487 44427]]\n"
     ]
    },
    {
     "data": {
      "text/plain": [
       "0.6588617956229537"
      ]
     },
     "execution_count": 8,
     "metadata": {},
     "output_type": "execute_result"
    }
   ],
   "source": [
    "dt_cm_ts = confusion_matrix(y_test,y_ts_dt_pred)\n",
    "print(dt_cm_ts)\n",
    "accuracy_score(y_test, y_ts_dt_pred)"
   ]
  },
  {
   "cell_type": "markdown",
   "metadata": {},
   "source": [
    "## Applying k-fold Cross Validation"
   ]
  },
  {
   "cell_type": "code",
   "execution_count": null,
   "metadata": {},
   "outputs": [],
   "source": [
    "from sklearn.model_selection import KFold, cross_val_score\n",
    "accuracies = cross_val_score(estimator = dtc, X = X_train, y = y_train, cv = 5)\n",
    "print('Accuracy: {:.2f} %'.format(accuracies.mean()*100))\n",
    "print('Standard deviation: {:.2f} %'.format(accuracies.std()*100))"
   ]
  },
  {
   "cell_type": "code",
   "execution_count": null,
   "metadata": {},
   "outputs": [],
   "source": [
    "accuracies"
   ]
  },
  {
   "cell_type": "markdown",
   "metadata": {},
   "source": [
    "## Grid Search"
   ]
  },
  {
   "cell_type": "code",
   "execution_count": 12,
   "metadata": {},
   "outputs": [
    {
     "name": "stdout",
     "output_type": "stream",
     "text": [
      "Best accuracy: 65.77 %\n",
      "Best parameters:  {'criterion': 'entropy', 'max_depth': 14}\n"
     ]
    }
   ],
   "source": [
    "from sklearn.model_selection import GridSearchCV\n",
    "parameters = [{'criterion':['gini', 'entropy'],'max_depth': list(range(1,21))}]\n",
    "grid_search = GridSearchCV(estimator = dtc, \n",
    "                           param_grid = parameters,\n",
    "                           scoring = 'accuracy',\n",
    "                           cv = 5,\n",
    "                           n_jobs = -1)\n",
    "grid_search.fit(X_train, y_train)\n",
    "best_accuracy = grid_search.best_score_\n",
    "best_parameters = grid_search.best_params_\n",
    "print('Best accuracy: {:.2f} %'.format(best_accuracy*100))\n",
    "print('Best parameters: ',best_parameters)"
   ]
  },
  {
   "cell_type": "markdown",
   "metadata": {},
   "source": [
    "## Metrics"
   ]
  },
  {
   "cell_type": "code",
   "execution_count": 9,
   "metadata": {},
   "outputs": [
    {
     "name": "stdout",
     "output_type": "stream",
     "text": [
      "0.6589556260088545\n",
      "0.483227827448933\n",
      "0.6515894841051588\n",
      "0.6685678168876314\n",
      "0.6354521268987613\n"
     ]
    }
   ],
   "source": [
    "from sklearn.metrics import roc_auc_score, jaccard_score, f1_score, precision_score, recall_score\n",
    "print(roc_auc_score(y_test,y_ts_dt_pred))\n",
    "print(jaccard_score(y_test,y_ts_dt_pred))\n",
    "print(f1_score(y_test,y_ts_dt_pred))\n",
    "print(precision_score(y_test,y_ts_dt_pred))\n",
    "print(recall_score(y_test,y_ts_dt_pred))"
   ]
  },
  {
   "cell_type": "code",
   "execution_count": null,
   "metadata": {},
   "outputs": [],
   "source": []
  }
 ],
 "metadata": {
  "kernelspec": {
   "display_name": "Python 3",
   "language": "python",
   "name": "python3"
  },
  "language_info": {
   "codemirror_mode": {
    "name": "ipython",
    "version": 3
   },
   "file_extension": ".py",
   "mimetype": "text/x-python",
   "name": "python",
   "nbconvert_exporter": "python",
   "pygments_lexer": "ipython3",
   "version": "3.8.3"
  }
 },
 "nbformat": 4,
 "nbformat_minor": 4
}
