{
 "cells": [
  {
   "cell_type": "code",
   "execution_count": 1,
   "metadata": {},
   "outputs": [],
   "source": [
    "import numpy as np\n",
    "import pandas as pd\n",
    "import matplotlib.pyplot as plt\n",
    "import matplotlib\n",
    "import mglearn\n",
    "%matplotlib inline"
   ]
  },
  {
   "cell_type": "code",
   "execution_count": 2,
   "metadata": {},
   "outputs": [],
   "source": [
    "import os\n",
    "path = 'E:\\Python Consumer Credit'\n",
    "os.chdir(path)"
   ]
  },
  {
   "cell_type": "code",
   "execution_count": 3,
   "metadata": {},
   "outputs": [],
   "source": [
    "df_tr=pd.read_csv('df__under_tr.csv',header=None)\n",
    "df_ts=pd.read_csv('df__under_ts.csv',header=None)"
   ]
  },
  {
   "cell_type": "code",
   "execution_count": 4,
   "metadata": {},
   "outputs": [
    {
     "name": "stdout",
     "output_type": "stream",
     "text": [
      "(557088, 14)\n",
      "(139272, 14)\n",
      "(557088,)\n",
      "(139272,)\n"
     ]
    }
   ],
   "source": [
    "X_train = df_tr.iloc[:,:-1].values\n",
    "y_train = df_tr.iloc[:,-1].values\n",
    "X_test = df_ts.iloc[:,:-1].values\n",
    "y_test = df_ts.iloc[:,-1].values\n",
    "print(X_train.shape)\n",
    "print(X_test.shape)\n",
    "print(y_train.shape)\n",
    "print(y_test.shape)"
   ]
  },
  {
   "cell_type": "markdown",
   "metadata": {},
   "source": [
    "#### Multi Layer Perceptron (Neural Network)"
   ]
  },
  {
   "cell_type": "code",
   "execution_count": 5,
   "metadata": {},
   "outputs": [],
   "source": [
    "from sklearn.neural_network import MLPClassifier\n",
    "nnc = MLPClassifier(activation='relu', hidden_layer_sizes=[200, 100], learning_rate='adaptive', max_iter=1500, solver='adam').fit(X_train,y_train) \n",
    "y_tr_nnc_pred = nnc.predict(X_train)\n",
    "y_ts_nnc_pred = nnc.predict(X_test)"
   ]
  },
  {
   "cell_type": "code",
   "execution_count": 6,
   "metadata": {},
   "outputs": [
    {
     "name": "stdout",
     "output_type": "stream",
     "text": [
      "[[213183  65639]\n",
      " [ 97043 181223]]\n"
     ]
    },
    {
     "data": {
      "text/plain": [
       "0.7079779137227871"
      ]
     },
     "execution_count": 6,
     "metadata": {},
     "output_type": "execute_result"
    }
   ],
   "source": [
    "from sklearn.metrics import confusion_matrix, accuracy_score\n",
    "nnc_cm_tr = confusion_matrix(y_train,y_tr_nnc_pred)\n",
    "print(nnc_cm_tr)\n",
    "accuracy_score(y_train, y_tr_nnc_pred)"
   ]
  },
  {
   "cell_type": "code",
   "execution_count": 7,
   "metadata": {},
   "outputs": [
    {
     "name": "stdout",
     "output_type": "stream",
     "text": [
      "[[52612 16746]\n",
      " [25097 44817]]\n"
     ]
    },
    {
     "data": {
      "text/plain": [
       "0.6995591360790395"
      ]
     },
     "execution_count": 7,
     "metadata": {},
     "output_type": "execute_result"
    }
   ],
   "source": [
    "nnc_cm_ts = confusion_matrix(y_test,y_ts_nnc_pred)\n",
    "print(nnc_cm_ts)\n",
    "accuracy_score(y_test, y_ts_nnc_pred)"
   ]
  },
  {
   "cell_type": "markdown",
   "metadata": {},
   "source": [
    "## Applying k-fold Cross Validation"
   ]
  },
  {
   "cell_type": "code",
   "execution_count": 8,
   "metadata": {},
   "outputs": [
    {
     "name": "stdout",
     "output_type": "stream",
     "text": [
      "Accuracy: 69.69 %\n",
      "Standard deviation: 0.16 %\n"
     ]
    }
   ],
   "source": [
    "from sklearn.model_selection import KFold, cross_val_score\n",
    "accuracies = cross_val_score(estimator = nnc, X = X_train, y = y_train, cv = 5)\n",
    "print('Accuracy: {:.2f} %'.format(accuracies.mean()*100))\n",
    "print('Standard deviation: {:.2f} %'.format(accuracies.std()*100))"
   ]
  },
  {
   "cell_type": "code",
   "execution_count": 9,
   "metadata": {},
   "outputs": [
    {
     "data": {
      "text/plain": [
       "array([0.69677251, 0.69573139, 0.69977921, 0.69703008, 0.69533375])"
      ]
     },
     "execution_count": 9,
     "metadata": {},
     "output_type": "execute_result"
    }
   ],
   "source": [
    "accuracies"
   ]
  },
  {
   "cell_type": "markdown",
   "metadata": {},
   "source": [
    "## Grid Search"
   ]
  },
  {
   "cell_type": "code",
   "execution_count": 10,
   "metadata": {},
   "outputs": [
    {
     "name": "stdout",
     "output_type": "stream",
     "text": [
      "Best accuracy: 69.75 %\n",
      "Best parameters:  {'activation': 'relu', 'hidden_layer_sizes': [200, 100], 'learning_rate': 'adaptive', 'max_iter': 1500, 'solver': 'adam'}\n"
     ]
    }
   ],
   "source": [
    "from sklearn.model_selection import GridSearchCV\n",
    "parameters = [{'hidden_layer_sizes':[100,200,300,[200,50],[100,100],[200,100]],\n",
    "               'activation':['identity','logistic','tanh','relu'],\n",
    "               'solver': ['adam'], \n",
    "               'learning_rate':['constant','invscaling','adaptive'],\n",
    "               'max_iter': [1000,1500,2000 ]}]\n",
    "grid_search = GridSearchCV(estimator = nnc, \n",
    "                           param_grid = parameters,\n",
    "                           scoring = 'accuracy',\n",
    "                           cv = 5,\n",
    "                           n_jobs = -1)\n",
    "grid_search.fit(X_train, y_train)\n",
    "best_accuracy = grid_search.best_score_\n",
    "best_parameters = grid_search.best_params_\n",
    "print('Best accuracy: {:.2f} %'.format(best_accuracy*100))\n",
    "print('Best parameters: ',best_parameters)"
   ]
  },
  {
   "cell_type": "markdown",
   "metadata": {},
   "source": [
    "## Metrics"
   ]
  },
  {
   "cell_type": "code",
   "execution_count": 8,
   "metadata": {},
   "outputs": [
    {
     "name": "stdout",
     "output_type": "stream",
     "text": [
      "0.6997937303030213\n",
      "0.5171590122317101\n",
      "0.6817466172790678\n",
      "0.7279859655962185\n",
      "0.6410304087879395\n"
     ]
    }
   ],
   "source": [
    "from sklearn.metrics import roc_auc_score, jaccard_score, f1_score, precision_score, recall_score\n",
    "print(roc_auc_score(y_test,y_ts_nnc_pred))\n",
    "print(jaccard_score(y_test,y_ts_nnc_pred))\n",
    "print(f1_score(y_test,y_ts_nnc_pred))\n",
    "print(precision_score(y_test,y_ts_nnc_pred))\n",
    "print(recall_score(y_test,y_ts_nnc_pred))"
   ]
  },
  {
   "cell_type": "code",
   "execution_count": null,
   "metadata": {},
   "outputs": [],
   "source": []
  }
 ],
 "metadata": {
  "kernelspec": {
   "display_name": "Python 3",
   "language": "python",
   "name": "python3"
  },
  "language_info": {
   "codemirror_mode": {
    "name": "ipython",
    "version": 3
   },
   "file_extension": ".py",
   "mimetype": "text/x-python",
   "name": "python",
   "nbconvert_exporter": "python",
   "pygments_lexer": "ipython3",
   "version": "3.8.3"
  }
 },
 "nbformat": 4,
 "nbformat_minor": 4
}
